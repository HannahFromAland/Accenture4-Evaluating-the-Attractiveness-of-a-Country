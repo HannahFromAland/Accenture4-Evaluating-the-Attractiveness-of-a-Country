from IPython.display import display, Markdown
from math import sqrt
import pandas as pd
import numpy as np
import matplotlib.pyplot as plt
import seaborn as sns
get_ipython().run_line_magic("matplotlib", " inline")
from sklearn.metrics import mean_squared_error
plt.style.use('ggplot')


dic_country = \
{'AUS': 'Australia',
 'BRA': 'Brazil',
 'CAN': 'India',
 'CHN': 'China',
 'GBR': 'United Kingdom',
 'IND': 'India',
 'JPN': 'Japan',
 'SGP': 'Singapore',
 'USA': 'United States'}
country = list(dic_country.keys())
manufacture = {}
service = {}
for con in country:
  manufacture[con] = pd.read_excel('../../Data/cleaned/Manufacturing.xlsx',sheet_name = con)
  manufacture[con] = manufacture[con].replace('..',np.nan)
  service[con] = pd.read_excel('../../Data/cleaned/Service.xlsx',sheet_name = con)
  service[con] = service[con].replace('..',np.nan)


service['USA']


# get target value
manufacture_y = {}
service_y = {}
def get_target_val(country, is_service):
  if not is_service:
    target = manufacture[country][['Manufacturing_value added_%_of_GDP','Year']]
    target.index = target['Year']
    del target['Year']
    target_trim = target[~target['Manufacturing_value added_%_of_GDP'].isna()]
    return target_trim
  else:
    target = service[country][['Services_value_added_%_of_GDP','Year']]
    target.index = target['Year']
    del target['Year']
    target_trim = target[~target['Services_value_added_%_of_GDP'].isna()]
    return target_trim
for con in country:
    manufacture_y[con] = get_target_val(con, False)
    service_y[con] = get_target_val(con, True)


# for manufaturing
fig, axes = plt.subplots(3, 3, dpi=120, figsize=(10,6))
for i, ax in enumerate(axes.flatten()):
    ax.plot('Manufacturing_value added_%_of_GDP', data=manufacture_y[country[i]], color="lightblue")
    # Decorations
    ax.set_title(country[i])
    ax.xaxis.set_ticks_position('none')
    ax.yaxis.set_ticks_position('none')
    ax.spines["top"].set_alpha(0)
    ax.tick_params(labelsize=6)

plt.suptitle("Manufacturing_value added_%_of_GDP",y=1.05)
plt.tight_layout()
plt.show()


# for service
fig, axes = plt.subplots(3, 3, dpi=120, figsize=(10,6))
for i, ax in enumerate(axes.flatten()):
    ax.plot('Services_value_added_%_of_GDP',data= service_y[country[i]],color = "lightblue")
    # Decorations
    ax.set_title(country[i])
    ax.xaxis.set_ticks_position('none')
    ax.yaxis.set_ticks_position('none')
    ax.spines["top"].set_alpha(0)
    ax.tick_params(labelsize=6)

plt.suptitle("Services_value_added_%_of_GDP",y=1.05)
plt.tight_layout()
plt.show()


def vis_stationary(df,title,rolling_num = 7):
  fig, axes = plt.subplots(3, 3, dpi=120, figsize=(10,6))
  for i, ax in enumerate(axes.flatten()):
      rolling_mean = df[country[i]].rolling(rolling_num).mean()
      rolling_std = df[country[i]].rolling(rolling_num).std()
      ax.plot(df[country[i]], color="lightblue",label="Original Target Trend")
      ax.plot(rolling_mean, color="coral", label="Rolling Mean")
      ax.plot(rolling_std, color="grey", label = "Rolling Standard Deviation")
      # Decorations
      #ax.seasonal_decompose(df[country],model='additive', period=7)
      ax.xaxis.set_ticks_position('none')
      ax.yaxis.set_ticks_position('none')
      ax.spines["top"].set_alpha(0)
      ax.tick_params(labelsize=6)
      ax.legend(loc="lower left")

  plt.suptitle(title,y=1.05)
  plt.tight_layout()

  plt.show()


vis_stationary(manufacture_y, "Manufacturing_value added_%_of_GDP")



vis_stationary(service_y, "Services_value_added_%_of_GDP")


from statsmodels.tsa.stattools import adfuller


def adfuller_test(series, signif=0.05, name='', verbose=False):
    """Perform ADFuller to test for Stationarity of given series and print report"""
    r = adfuller(series, autolag='AIC')
    output = {'test_statistic':round(r[0], 4), 'pvalue':round(r[1], 4), 'n_lags':round(r[2], 4), 'n_obs':r[3]}
    p_value = output['pvalue'] 
    def adjust(val, length= 6): return str(val).ljust(length)

    # Print Summary
    print(f'    Augmented Dickey-Fuller Test on "{name}"', "\n   ", '-'*47)
    print(f' Null Hypothesis: Data has unit root. Non-Stationary.')
    print(f' Significance Level    = {signif}')
    print(f' Test Statistic        = {output["test_statistic"]}')
    print(f' No. Lags Chosen       = {output["n_lags"]}')

    for key,val in r[4].items():
        print(f' Critical value {adjust(key)} = {round(val, 3)}')

    if p_value <= signif:
        print(f" => P-Value = {p_value}. Rejecting Null Hypothesis.")
        print(f" => Series is Stationary.")
    else:
        print(f" => P-Value = {p_value}. Cannot reject Null Hypothesis.")
        print(f" => Series is Non-Stationary.")   
    print("\n")


for con in country:
  adfuller_test(manufacture_y[con],0.05, con)


for con in country:
  adfuller_test(service_y[con],0.05, con)


diff_manu = {}
diff_ser = {}
for con in country:
  diff_manu[con] = manufacture_y[con].diff().dropna()
  diff_ser[con] = service_y[con].diff().dropna()

for con in country:
  adfuller_test(diff_manu[con],0.05, con)


# for manufacture
fig, axes = plt.subplots(3, 3, dpi=120, figsize=(10,6))
for i, ax in enumerate(axes.flatten()):
    ax.plot("Manufacturing_value added_%_of_GDP",data= diff_manu[country[i]],color = "lightblue")
    # Decorations
    ax.set_title(country[i])
    ax.xaxis.set_ticks_position('none')
    ax.yaxis.set_ticks_position('none')
    ax.spines["top"].set_alpha(0)
    ax.tick_params(labelsize=6)
plt.suptitle("first order diff of Manufacturing_value added_%_of_GDP",y=1.05)
plt.tight_layout()
plt.show()


for con in country:
  adfuller_test(diff_ser[con],0.05, con)


# for service
fig, axes = plt.subplots(3, 3, dpi=120, figsize=(10,6))
for i, ax in enumerate(axes.flatten()):
    ax.plot('Services_value_added_%_of_GDP',data= diff_ser[country[i]],color = "lightblue")
    # Decorations
    ax.set_title(country[i])
    ax.xaxis.set_ticks_position('none')
    ax.yaxis.set_ticks_position('none')
    ax.spines["top"].set_alpha(0)
    ax.tick_params(labelsize=6)

plt.suptitle("Services_value_added_%_of_GDP",y=1.05)
plt.tight_layout()
plt.show()


adfuller_test(diff_manu['CAN'].diff().dropna(),0.05, "CAN")
# second-diff of Canada manufature is stationary

adfuller_test(diff_manu['GBR'].diff().dropna(),0.05, "GBR")
# second-diff of Germany manufature is stationary

adfuller_test(diff_ser['CAN'].diff().dropna(),0.05, "CAN")
# second-diff of Canada service still non-stationary, therefore disgard analysis of Canada in service part


print("=======Manufaturing Autocorrelation=======")
for con in country:
    autocorrelation_lag1 =  manufacture[con]["Manufacturing_value added_%_of_GDP"].autocorr(lag=1)
print(f"One Year Lag of {con}: ", autocorrelation_lag1)
print("\n")
print("=======Service Autocorrelation=======")
for con in country:
    autocorrelation_lag1 =  service[con]["Services_value_added_%_of_GDP"].autocorr(lag=1)
    print(f"One Year Lag of {con}: ", autocorrelation_lag1)


from statsmodels.graphics.tsaplots import plot_pacf
from statsmodels.graphics.tsaplots import plot_acf
from statsmodels.tsa.arima_process import ArmaProcess
from statsmodels.stats.diagnostic import acorr_ljungbox
from statsmodels.tsa.statespace.sarimax import SARIMAX
from statsmodels.tsa.stattools import adfuller
from statsmodels.tsa.stattools import pacf
from statsmodels.tsa.stattools import acf


def split_train_test(df, percentage = 0.8):
    train = df[:int(percentage*(len(df)))]
    valid = df[int(percentage*(len(df))):]
    return train, valid

train_manu = {}
valid_manu = {}
train_ser = {}
valid_ser = {}
for con in country:
    train_manu[con], valid_manu[con]= split_train_test(manufacture_y[con])
    train_ser[con], valid_ser[con]= split_train_test(service_y[con])


valid_manu['AUS']


train_manu["CHN"]["Manufacturing_value added_%_of_GDP"].shape[0]//2-1


def show_acf_pacf(df, con, val):
    lag = df[con][val].shape[0]//2 - 1
    plot_acf(df[con][val],lags = lag,title = con + " autocorrelation")
    plot_pacf(df[con][val],lags = lag,title = con + " partial autocorrelation")

for con in country:
    show_acf_pacf(manufacture_y, con, "Manufacturing_value added_%_of_GDP")


# !pip install pmdarima
from pmdarima.arima import auto_arima
manu_model = {}
ser_model = {}
def set_auto_arima(train, con, manu, dic):
  model = auto_arima(train[con][manu],trace=True, error_action='ignore', suppress_warnings=True)
  model.fit(train[con][manu])
  dic[con] = model

  # forecast = model.predict(n_periods=len(test))
  # forecast = pd.DataFrame(forecast,index = test.index,columns=['Prediction']) 
print("======= Auto ARIMA for manufacture=======")
for con in country:
  print(f"======={con}=======")
  set_auto_arima(train_manu,con, "Manufacturing_value added_%_of_GDP",manu_model)
  print("\n")

print("======= Auto ARIMA for service=======")
for con in country:
  print(f"======={con}=======")
  set_auto_arima(train_ser,con, "Services_value_added_%_of_GDP",ser_model)
  print("\n")


forecast = manu_model['CHN'].predict(n_periods=len(valid_manu['CHN'])).reset_index().drop(['index'],axis = 1)
forecast['Year'] = valid_manu['CHN'].index
forecast.set_index(['Year'])


forecast_manu = {}
forecast_ser = {}
def forecast_arima(model, valid,con, manu):
  forecast = model.predict(n_periods=len(valid)).reset_index().drop(['index'],axis = 1)
  forecast['Year'] = valid.index
  forecast = forecast.set_index(['Year'])
  forecast = forecast.rename(columns={0: "Prediction"})
  manu[con] = forecast

for con in country:
  forecast_arima(manu_model[con],valid_manu[con],con, forecast_manu)
  forecast_arima(ser_model[con],valid_ser[con],con, forecast_ser)


train_manu['USA']


# for manufaturing
fig, axes = plt.subplots(3, 3, dpi=120, figsize=(10,6))
for i, ax in enumerate(axes.flatten()):
    ax.plot(train_manu[country[i]],color = "lightblue",label="Train")
    ax.plot(valid_manu[country[i]],color = "red",label="Valid")
    ax.plot(forecast_manu[country[i]],color = "black",label="Forecast")
    # Decorations
    ax.set_title(country[i])
    ax.xaxis.set_ticks_position('none')
    ax.yaxis.set_ticks_position('none')
    ax.spines["top"].set_alpha(0)
    ax.tick_params(labelsize=4)
    ax.legend(loc="lower left")

plt.suptitle("Manufacturing_value added_%_of_GDP",y=1.05)
plt.tight_layout()
plt.show()


# for service
fig, axes = plt.subplots(3, 3, dpi=120, figsize=(10,6))
for i, ax in enumerate(axes.flatten()):
    ax.plot(train_ser[country[i]],color = "lightblue",label="Train")
    ax.plot(valid_ser[country[i]],color = "red",label="Valid")
    ax.plot(forecast_ser[country[i]],color = "black",label="Forecast")
    # Decorations
    ax.set_title(country[i])
    ax.xaxis.set_ticks_position('none')
    ax.yaxis.set_ticks_position('none')
    ax.spines["top"].set_alpha(0)
    ax.tick_params(labelsize=4)
    ax.legend(loc="lower left")

plt.suptitle("Services_value_added_%_of_GDP",y=1.05)
plt.tight_layout()
plt.show()


from math import sqrt
from sklearn.metrics import mean_squared_error
for con in country:
  rms = sqrt(mean_squared_error(valid_manu[con],forecast_manu[con]))
  print(f"RMSE for {con} manufacture:", rms)
  rmse = sqrt(mean_squared_error(valid_ser[con],forecast_ser[con]))
  print(f"RMSE for {con} service:", rmse)
  print("\n")


# only reserve the value with actual target value for each country
for con in country:
  manufacture[con] = manufacture[con][~manufacture[con]['Manufacturing_value added_%_of_GDP'].isna()]
  manufacture[con].index = manufacture[con]['Year']
  service[con] = service[con][~service[con]['Services_value_added_%_of_GDP'].isna()]
  service[con].index = service[con]['Year']


# interpolate imputation
for con in country:
  manufacture[con] = manufacture[con].interpolate(option='spline')
  service[con] = service[con].interpolate(option='spline')


# check each country's variable missing rate
def percent_miss(df):
  percent_missing = df.isnull().sum() * 100 / len(df)
  print(percent_missing)

for con in country:
  print(f"=======Manufature {con}=======")
  percent_miss(manufacture[con])
  print(f"=======Service {con}=======")
  percent_miss(service[con])
  


# drop columns which are all nan
for con in country:
  manufacture[con] = manufacture[con].dropna(axis=1, how='all')
  service[con] = service[con].dropna(axis = 1, how = 'all')


# all left missing value are starting from the very beginning, therefore using NOCB to fill them
for con in country:
  manufacture[con] = manufacture[con].bfill()
  service[con] = service[con].bfill()


# can change the argument to plot different country and type
def plot_time_series(df, var_num):
  fig, axes = plt.subplots(var_num//4 + 1,4, dpi=120, figsize=(10,6))
  for i, ax in enumerate(axes.flatten()):
      if (i >= var_num - 1): break
      data = df[df.columns[i+1]]
      ax.plot(df[df.columns[0]],data, color = "lightblue",ms = 1)
      # Decorations
      ax.set_title(df.columns[i+1],fontsize=5)
      ax.xaxis.set_ticks_position('none')
      ax.yaxis.set_ticks_position('none')
      ax.spines["top"].set_alpha(0)
      ax.tick_params(labelsize=4)

  plt.tight_layout()
  plt.show()
plot_time_series(manufacture['CHN'],len(manufacture['CHN'].columns))


import warnings

def fxn():
    warnings.warn("deprecated", DeprecationWarning)

with warnings.catch_warnings():
    warnings.simplefilter("ignore")
    fxn()


def adfuller_simple(series, name,signif=0.05):
  r = adfuller(series, autolag='AIC')
  output = {'test_statistic':round(r[0], 4), 'pvalue':round(r[1], 4), 'n_lags':round(r[2], 4), 'n_obs':r[3]}
  p_value = output['pvalue'] 
  if p_value <= signif: 
    print(f"{name}: TRUE")
    return True
  else:
    print(f"{name}: FALSE")
    return False


def adf_testing(df,con,is_manu):
  adf = df.drop(["Year"], axis = 1)
  if is_manu:
    print(f"=======Manufacture {con}=======")
  else:
    print(f"=======Service {con}=======")
  for name, column in adf.iteritems():
    adfuller_simple(column, name=column.name)


for con in country:
  adf_testing(manufacture[con],con,True)
  print("\n")
  adf_testing(service[con],con,False)
  print("\n")


# perform first order difference
diff_manu = {}
diff_ser = {}
for con in country:
  diff_manu[con] = manufacture[con].diff().dropna()
  diff_ser[con] = service[con].diff().dropna()


for con in country:
  adf_testing(diff_manu[con],con,True)
  print("\n")
  adf_testing(diff_ser[con],con,False)
  print("\n")


# perform first order difference
diff2_manu = {}
diff2_ser = {}
for con in country:
  diff2_manu[con] = diff_manu[con].diff().dropna()
  diff2_ser[con] = diff_ser[con].diff().dropna()


for con in country:
  adf_testing(diff2_manu[con],con,True)
  print("\n")
  adf_testing(diff2_ser[con],con,False)
  print("\n")


# drop the variable that are still non-stationary after seconde order diff
def drop_non_stat(df):
  adf = df.drop(["Year"], axis = 1)
  for name, column in adf.iteritems():
    if not adfuller_simple(column, name=column.name):
      adf = adf.drop([column], axis = 1)
  return adf


def drop_non_stat(df):
  adf = df.drop(["Year"], axis = 1)
  for name, column in adf.iteritems():
      if not adfuller_simple(column, name=column.name):
        adf = adf.drop([column.name], axis = 1)
      else:
        continue
  return adf


df_manu = {}
df_ser = {}
for con in country:
  df_manu[con] = drop_non_stat(diff2_manu[con])
  df_ser[con] = drop_non_stat(diff2_ser[con])


from statsmodels.tsa.vector_ar.var_model import VAR


def split_train_test(df, percentage = 0.8):
  train = df[:int(percentage*(len(df)))]
  valid = df[int(percentage*(len(df))):]
  return train, valid


train_manu = {}
valid_manu = {}
train_ser = {}
valid_ser = {}
for con in country:
  train_manu[con], valid_manu[con] = split_train_test(df_manu[con])
  train_ser[con], valid_ser[con] = split_train_test(df_ser[con])


train_manu['USA']


# select the order of model
model_manu = {}
model_ser = {}
for con in country:
  model = VAR(endog=train_manu[con])
  res = model.fit()
  model_manu[con] = res
  model = VAR(endog=train_ser[con])
  res = model.fit()
  model_ser[con] = res


model_manu['AUS']


forecast_manu = {}
forecast_ser = {}
def forecast_var(model, train,valid,con, manu):
  forecast = model.forecast(train.values, steps = len(valid))
  df_forecast = pd.DataFrame(data = forecast,columns = train.columns,index = valid.index)
  manu[con] = df_forecast

for con in country:
  forecast_var(model_manu[con],train_manu[con], valid_manu[con],con, forecast_manu)
  forecast_var(model_ser[con],train_ser[con], valid_ser[con],con, forecast_ser)


forecast_manu["USA"]


for con in country:
  if con != "USA": 
    rms = sqrt(mean_squared_error(valid_manu[con]["Manufacturing_value added_%_of_GDP"],forecast_manu[con]["Manufacturing_value added_%_of_GDP"]))
    print(f"RMSE for {con} manufacture:", rms)
  if con != "CAN": 
    rmse = sqrt(mean_squared_error(valid_ser[con]["Services_value_added_%_of_GDP"],forecast_ser[con]["Services_value_added_%_of_GDP"]))
    print(f"RMSE for {con} service:", rmse)
  print("\n")
