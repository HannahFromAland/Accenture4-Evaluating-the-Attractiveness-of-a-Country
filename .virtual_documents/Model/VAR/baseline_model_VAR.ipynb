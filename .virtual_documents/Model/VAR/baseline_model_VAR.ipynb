from IPython.display import display, Markdown
from math import sqrt
import pandas as pd
import numpy as np
import matplotlib.pyplot as plt
get_ipython().run_line_magic("matplotlib", " inline")
from sklearn.metrics import mean_squared_error


manu = pd.ExcelFile("../../Data/cleaned/Manufacturing_filled.xlsx")
service = pd.ExcelFile("../../Data/cleaned/Service_filled.xlsx")
manu_name = manu.sheet_names
ser_name = service.sheet_names


dic_country = \
{'AUS': 'Australia',
 'BRA': 'Brazil',
 'CAN': 'India',
 'CHN': 'China',
 'GBR': 'United Kingdom',
 'IND': 'India',
 'JPN': 'Japan',
 'SGP': 'Singapore',
 'USA': 'United States'}


Country_code = dic_country.keys()
method_dict = {"Mean": [], "Median": [], "LOCF": [], "NOCB" :[],"Rolling":[], "Interpolate":[]}
for name in manu_name:
    country = name.split(" ")[0]
    method = name.split(" ")[1]
    df = pd.read_excel("../../Data/cleaned/Manufacturing_filled.xlsx", sheet_name = name)
    method_dict[method].append(df)


df = method_dict["NOCB"][3]
df


# using last/next point to fill missing 
cols = df.columns
for j in cols:
  for i in range(0, len(df)):
    if pd.isnull(df[j][i]):
      df[j][i] = df[j][i-1]


df


def report(df):
    display(Markdown('<b>head():</b>'))
    display(df.head())
    display(Markdown('<b>describe():</b>'))
    display(df.describe())
    display(Markdown('<b>info():</b>'))
    display(df.info(verbose=True))
    display(Markdown('<b>infer_dtype():</b>'))
    display(df.apply(lambda x: pd.api.types.infer_dtype(x.values)))


report(df)


# Plot
def plot_time_series(df, nrow, ncol):
  fig, axes = plt.subplots(nrow, ncol, dpi=120, figsize=(10,6))
  for i, ax in enumerate(axes.flatten()):
      data = df[df.columns[i+1]]
      ax.plot(df[df.columns[0]],data, 'o', color = "lightblue",ms = 1)
      # Decorations
      ax.set_title(df.columns[i+1])
      ax.xaxis.set_ticks_position('none')
      ax.yaxis.set_ticks_position('none')
      ax.spines["top"].set_alpha(0)
      ax.tick_params(labelsize=6)

  plt.tight_layout()
plot_time_series(df,3,3)


df_test = df.drop(['Year'],axis = 1)


from statsmodels.tsa.stattools import adfuller

def adfuller_test(series, signif=0.05, name='', verbose=False):
    """Perform ADFuller to test for Stationarity of given series and print report"""
    r = adfuller(series, autolag='AIC')
    output = {'test_statistic':round(r[0], 4), 'pvalue':round(r[1], 4), 'n_lags':round(r[2], 4), 'n_obs':r[3]}
    p_value = output['pvalue'] 
    def adjust(val, length= 6): return str(val).ljust(length)

    # Print Summary
    print(f'    Augmented Dickey-Fuller Test on "{name}"', "\n   ", '-'*47)
    print(f' Null Hypothesis: Data has unit root. Non-Stationary.')
    print(f' Significance Level    = {signif}')
    print(f' Test Statistic        = {output["test_statistic"]}')
    print(f' No. Lags Chosen       = {output["n_lags"]}')

    for key,val in r[4].items():
        print(f' Critical value {adjust(key)} = {round(val, 3)}')

    if p_value <= signif:
        print(f" => P-Value = {p_value}. Rejecting Null Hypothesis.")
        print(f" => Series is Stationary.")
    else:
        print(f" => P-Value = {p_value}. Cannot reject Null Hypothesis.")
        print(f" => Series is Non-Stationary.")    


for name, column in df_test.iteritems():
    adfuller_test(column, name=column.name)
    print('\n')


df_diff = df_test.diff().dropna()
# df_diff
df_diff_2 = df_diff.diff().dropna()
# df_diff_2


for name, column in df_diff_2.iteritems():
    adfuller_test(column, name=column.name)
    print('\n')


from statsmodels.tsa.stattools import coint

df_y = df_test['Manufacturing_value added_%_of_GDP']

col = df_test.drop(['Manufacturing_value added_%_of_GDP'], axis = 1).columns


for col_name in col:
  test_res = coint(df_test['Manufacturing_value added_%_of_GDP'],df_test[col_name])
  print(f"{col_name}: \n  coint_t {test_res[0]} \n  p-value {test_res[1]}")
  if test_res[1] < 0.05:
    print(" false")
  else:
    print(" true")
  # print(coint(df_test['Manufacturing_value added_%_of_GDP'],df_test[col_name]))
  



from statsmodels.tsa.vector_ar.var_model import VAR


diff2_var = df_diff_2 .drop(["Access_finance"], axis = 1)
def split_train_test(df, percentage = 0.8):
  train = df[:int(percentage*(len(df)))]
  valid = df[int(percentage*(len(df))):]
  return train, valid

train_diff2, valid_diff2 = split_train_test(diff2_var, 0.8)


valid_diff2


# select the order of model
model = VAR(endog=train_diff2)
lag_order = model.select_order()
print(lag_order.summary())


res = model.fit(2)
print(res.summary())


res.plot_acorr(nlags=10, resid=True, linewidth=6)
plt.show()


index = pd.date_range(start = '2014', periods = 8, freq= "AS")
index


pred = res.forecast(train_diff2.values, steps=8)
df_forecast = pd.DataFrame(data=pred, columns=train_diff2.columns,
                           index=['2014', '2015', '2016', '2017', '2018', '2019', '2020', '2021'])
df_forecast


#invert result
test_obs = 8
def invert_second_diff(col_name, test_obs):
  df_forecast[col_name+"_1d"] = df[col_name].iloc[-test_obs-1] - df[col_name].iloc[-test_obs-2] +df_forecast[col_name].cumsum()
  df_forecast[col_name+"_forecasted"] = df[col_name].iloc[-test_obs-1] + df_forecast[col_name+"_1d"].cumsum()

# df_forecast['y_1d'] = df["Manufacturing_value added_%_of_GDP"].iloc[-test_obs-1] - df["Manufacturing_value added_%_of_GDP"].iloc[-test_obs-2] +df_forecast["Manufacturing_value added_%_of_GDP"].cumsum()
# df_forecast['y_forecast'] = df['Manufacturing_value added_%_of_GDP'].iloc[-test_obs-1] + df_forecast['Manufacturing_value added_%_of_GDP'].cumsum()


for col_name in df_forecast.columns :
  invert_second_diff(col_name, test_obs)
df_forecast 


# plot prediction
test_original = df[-test_obs:]
test_original.index =  ['2014','2015','2016','2017','2018','2019','2020','2021']
test_original['Manufacturing_value added_%_of_GDP'].plot(figsize=(12,5),legend=True)
df_forecast['Manufacturing_value added_%_of_GDP_forecasted'].plot(legend=True)
plt.show()


#calculate RMSE
valid_res = test_original.drop(["Year", "Access_finance"],axis= 1)
for col_name in valid_res.columns:
  print('RMSE value for', col_name, 'is:', sqrt(mean_squared_error(df_forecast[col_name+"_forecasted"], test_original[col_name])))


df_chn = method_dict["NOCB"][0]


for j in df_chn.columns:
  df_chn[j] = df_chn[j].ffill()
df_chn


plot_time_series(df_chn,3,3)


df_test = df_chn.drop(["Year", "Access_finance"],axis= 1)
for name, column in df_test.iteritems():
    adfuller_test(column, name=column.name)
    print('\n')


col = df_test.drop(['Manufacturing_value added_%_of_GDP'], axis = 1).columns


for col_name in col:
  test_res = coint(df_test['Manufacturing_value added_%_of_GDP'],df_test[col_name])
  print(f"{col_name}: \n  coint_t {test_res[0]} \n  p-value {test_res[1]}")
  if test_res[1] < 0.05:
    print(" false")
  else:
    print(" true")
  # print(coint(df_test['Manufacturing_value added_%_of_GDP'],df_test[col_name]))


df_test_train = df_test#.drop(["Access_finance"],axis =1)
train_diff2, valid_diff2 = split_train_test(df_test_train, 0.8)


# select the order of model
model = VAR(endog=train_diff2)



res = model.fit(3,trend = "nc")
print(res.summary())


res.plot_acorr(nlags=10, resid=True, linewidth=6)
plt.show()


pred = res.forecast(train_diff2.values, steps=8)
df_forecast = pd.DataFrame(data = pred,columns = train_diff2.columns,index = ['2014','2015','2016','2017','2018','2019','2020','2021'])
df_forecast['Manufacturing_value added_%_of_GDP_forecasted'] = df_forecast['Manufacturing_value added_%_of_GDP']


# plot prediction
test_original = df_chn[-test_obs:]
test_original.index =  ['2014','2015','2016','2017','2018','2019','2020','2021']
test_original['Manufacturing_value added_%_of_GDP'].plot(figsize=(12,5),legend=True)
df_forecast['Manufacturing_value added_%_of_GDP_forecasted'].plot(legend=True)
plt.show()


for col_name in df_forecast.drop(['Manufacturing_value added_%_of_GDP_forecasted'], axis = 1).columns:
  print('RMSE value for', col_name, 'is:', sqrt(mean_squared_error(df_forecast[col_name], test_original[col_name])))


df_us = method_dict["NOCB"][7]


df_us = df_us.drop(['Access_finance'], axis = 1)
df_us


for j in df_us.columns:
  df_us[j] = df_us[j].ffill()
df_us


plot_time_series(df_us,4,2)


df_test = df_us.drop(["Year", "Railways_goods_trans_million_ton-km"],axis= 1)
for name, column in df_test.iteritems():
    adfuller_test(column, name=column.name)
    print('\n')


df_diff = df_test.diff().dropna()
# df_diff
# df_diff_2 = df_diff.diff().dropna()
# # df_diff_2


for name, column in df_diff.iteritems():
    adfuller_test(column, name=column.name)
    print('\n')


col = df_test.drop(['Manufacturing_value added_%_of_GDP'], axis = 1).columns

for col_name in col:
  test_res = coint(df_test['Manufacturing_value added_%_of_GDP'],df_test[col_name])
  print(f"{col_name}: \n  coint_t {test_res[0]} \n  p-value {test_res[1]}")
  if test_res[1] < 0.05:
    print(" false")
  else:
    print(" true")
  # print(coint(df_test['Manufacturing_value added_%_of_GDP'],df_test[col_name]))


train_diff, valid_diff = split_train_test(df_diff, 0.8)
# select the order of model
model = VAR(endog=train_diff)
lag_order = model.select_order()
print(lag_order.summary())


# fit model
res = model.fit(2)
print(res.summary())


res.plot_acorr(nlags=10, resid=True, linewidth=6)
plt.show()


pred = res.forecast(train_diff.values, steps=8)
df_forecast = pd.DataFrame(data = pred,columns = train_diff.columns,index = ['2014','2015','2016','2017','2018','2019','2020','2021'])
df_forecast


#invert result
test_obs = 8
def invert_first_diff(col_name, test_obs):
  df_forecast[col_name+"_forecasted"] = df_us[col_name].iloc[-test_obs-1] + df_forecast[col_name].cumsum()



for col_name in df_forecast.columns :
  invert_first_diff(col_name, test_obs)
df_forecast


# plot prediction
test_original = df_us[-test_obs:]
test_original.index =  ['2014','2015','2016','2017','2018','2019','2020','2021']
test_original['Manufacturing_value added_%_of_GDP'].plot(figsize=(12,5),legend=True)
df_forecast['Manufacturing_value added_%_of_GDP_forecasted'].plot(legend=True)
plt.show()


test_original


#calculate RMSE
valid_res = test_original.drop(["Year", "Logistic_performance", "Access_finance", "New_business_density"],axis= 1)
for col_name in valid_res.columns:
  print('RMSE value for', col_name, 'is:', sqrt(mean_squared_error(df_forecast[col_name+"_forecasted"], test_original[col_name])))
