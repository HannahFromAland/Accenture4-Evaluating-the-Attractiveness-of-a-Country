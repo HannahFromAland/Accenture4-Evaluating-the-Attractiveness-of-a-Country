{
 "cells": [
  {
   "cell_type": "raw",
   "metadata": {
    "colab": {
     "base_uri": "https://localhost:8080/"
    },
    "executionInfo": {
     "elapsed": 4246,
     "status": "ok",
     "timestamp": 1666197797455,
     "user": {
      "displayName": "Di Mu",
      "userId": "10481682345499982733"
     },
     "user_tz": 240
    },
    "id": "58r9joGnG8H0",
    "outputId": "e67e1830-f06e-48eb-8c22-fde93d765d26"
   },
   "source": [
    "!pip install xlsxwriter"
   ]
  },
  {
   "cell_type": "raw",
   "metadata": {
    "colab": {
     "base_uri": "https://localhost:8080/"
    },
    "executionInfo": {
     "elapsed": 939,
     "status": "ok",
     "timestamp": 1666197812521,
     "user": {
      "displayName": "Di Mu",
      "userId": "10481682345499982733"
     },
     "user_tz": 240
    },
    "id": "xsE9ZigzIOgl",
    "outputId": "e7811297-9cd9-4572-fe0f-01dae8848319"
   },
   "source": [
    "### if colab \n",
    "# from google.colab import drive\n",
    "# drive.mount(\"/content/drive\")\n",
    "# %cd /content/drive/MyDrive/Capstone/Data"
   ]
  },
  {
   "cell_type": "markdown",
   "metadata": {
    "id": "rLR5G3_MGjvT",
    "tags": []
   },
   "source": [
    "# Missing value imputation"
   ]
  },
  {
   "cell_type": "code",
   "execution_count": 1,
   "metadata": {
    "executionInfo": {
     "elapsed": 621,
     "status": "ok",
     "timestamp": 1666197798070,
     "user": {
      "displayName": "Di Mu",
      "userId": "10481682345499982733"
     },
     "user_tz": 240
    },
    "id": "BOtxPiVdPcDZ"
   },
   "outputs": [],
   "source": [
    "import pandas as pd\n",
    "import numpy as np"
   ]
  },
  {
   "cell_type": "code",
   "execution_count": 2,
   "metadata": {
    "executionInfo": {
     "elapsed": 688,
     "status": "ok",
     "timestamp": 1666197817260,
     "user": {
      "displayName": "Di Mu",
      "userId": "10481682345499982733"
     },
     "user_tz": 240
    },
    "id": "insC9nOXCain"
   },
   "outputs": [],
   "source": [
    "Country_code=[\"AUS\", \"BRA\", \"CAN\", \"CHN\", \"GBR\", \"IND\", \"JPN\", \"SGP\", \"USA\"]\n",
    "Manufacture = pd.ExcelFile('cleaned/Manufacturing.xlsx')\n",
    "Service = pd.ExcelFile(\"cleaned/Service.xlsx\")\n",
    "Manufacture_df=[]\n",
    "Service_df=[]\n",
    "for x in Country_code:\n",
    "    Manufacture_df.append(pd.read_excel(Manufacture, x).replace('\\.+', np.nan, regex=True))\n",
    "    Service_df.append(pd.read_excel(Service, x).replace('\\.+', np.nan, regex=True))"
   ]
  },
  {
   "cell_type": "code",
   "execution_count": 3,
   "metadata": {
    "executionInfo": {
     "elapsed": 6,
     "status": "ok",
     "timestamp": 1666197817260,
     "user": {
      "displayName": "Di Mu",
      "userId": "10481682345499982733"
     },
     "user_tz": 240
    },
    "id": "UosVsEg0Cs1t"
   },
   "outputs": [],
   "source": [
    "def Mean_imputation(df):\n",
    "    df = df.copy()[df.Year>1979]\n",
    "    df.fillna(df.mean(),inplace=True)\n",
    "    return df\n",
    "def Median_imputation(df):\n",
    "    df = df.copy()[df.Year>1979]\n",
    "    df.fillna(df.median(),inplace=True)\n",
    "    return df\n",
    "def LOCF(df):\n",
    "    df = df.copy()[df.Year>1979]\n",
    "    df=df.ffill()\n",
    "    return df\n",
    "def NOCB(df):\n",
    "    df = df.copy()[df.Year>1979]\n",
    "    df=df.bfill()\n",
    "    return df\n",
    "def Rolling_Statistics(df):\n",
    "    df = df.copy()[df.Year>1979]\n",
    "    df=df.ewm(halflife=4).mean()\n",
    "    return df\n",
    "def interpolation(df):\n",
    "    df = df.copy()[df.Year>1979].astype(float)\n",
    "    df=df.interpolate('linear',axis=0)\n",
    "    return df\n",
    "Missing_technique=[\"Mean\", \"Median\", \"LOCF\", \"NOCB\", \"Rolling statistics\", \"Interpolate\"]"
   ]
  },
  {
   "cell_type": "code",
   "execution_count": 4,
   "metadata": {
    "executionInfo": {
     "elapsed": 6,
     "status": "ok",
     "timestamp": 1666197817261,
     "user": {
      "displayName": "Di Mu",
      "userId": "10481682345499982733"
     },
     "user_tz": 240
    },
    "id": "kCRj7sohCtdv"
   },
   "outputs": [],
   "source": [
    "def create_df_output(df, Country_code, Missing_technique, k):\n",
    "    if k ==1:\n",
    "        output_path = 'cleaned/Manufacturing_filled.xlsx'\n",
    "    elif k==0:\n",
    "        output_path = \"cleaned/Service_filled.xlsx\"\n",
    "    with pd.ExcelWriter(output_path, engine='xlsxwriter') as writer:\n",
    "        for x in range(len(Country_code)):\n",
    "            for y in range(len(Missing_technique)):\n",
    "                if y == 0:\n",
    "                    df_temp = Mean_imputation(df[x])\n",
    "                elif y == 1:\n",
    "                    df_temp = Median_imputation(df[x])\n",
    "                elif y == 2:\n",
    "                    df_temp = LOCF(df[x])\n",
    "                elif y == 3:\n",
    "                    df_temp = NOCB(df[x])\n",
    "                elif y == 4:\n",
    "                    df_temp = Rolling_Statistics(df[x])\n",
    "                elif y == 5:\n",
    "                    df_temp = interpolation(df[x])\n",
    "                df_temp.dropna(axis = 1) \\\n",
    "                       .to_excel(writer, sheet_name=Country_code[x] + ' ' + Missing_technique[y], index=False)"
   ]
  },
  {
   "cell_type": "code",
   "execution_count": 5,
   "metadata": {
    "executionInfo": {
     "elapsed": 1545,
     "status": "ok",
     "timestamp": 1666197818800,
     "user": {
      "displayName": "Di Mu",
      "userId": "10481682345499982733"
     },
     "user_tz": 240
    },
    "id": "6niIK6-ExVoU"
   },
   "outputs": [],
   "source": [
    "create_df_output(Manufacture_df, Country_code, Missing_technique, 1)\n",
    "create_df_output(Service_df, Country_code, Missing_technique, 0)"
   ]
  }
 ],
 "metadata": {
  "colab": {
   "collapsed_sections": [],
   "provenance": []
  },
  "kernelspec": {
   "display_name": "Python 3",
   "language": "python",
   "name": "python3"
  },
  "language_info": {
   "codemirror_mode": {
    "name": "ipython",
    "version": 3
   },
   "file_extension": ".py",
   "mimetype": "text/x-python",
   "name": "python",
   "nbconvert_exporter": "python",
   "pygments_lexer": "ipython3",
   "version": "3.9.7"
  }
 },
 "nbformat": 4,
 "nbformat_minor": 4
}
