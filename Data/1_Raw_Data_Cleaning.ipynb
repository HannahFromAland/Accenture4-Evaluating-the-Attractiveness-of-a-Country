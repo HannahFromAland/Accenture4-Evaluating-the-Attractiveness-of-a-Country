{
 "cells": [
  {
   "cell_type": "code",
   "execution_count": 1,
   "metadata": {
    "colab": {
     "base_uri": "https://localhost:8080/"
    },
    "executionInfo": {
     "elapsed": 943,
     "status": "ok",
     "timestamp": 1666196843612,
     "user": {
      "displayName": "Di Mu",
      "userId": "10481682345499982733"
     },
     "user_tz": 240
    },
    "id": "LttHokwP_950",
    "outputId": "332a745e-70d1-4735-ed1e-5ab87735f327"
   },
   "outputs": [],
   "source": [
    "### if colab \n",
    "# from google.colab import drive\n",
    "# drive.mount(\"/content/drive\")\n",
    "# %cd /content/drive/MyDrive/Capstone/Data"
   ]
  },
  {
   "cell_type": "markdown",
   "metadata": {
    "id": "is5udQvEl0pd",
    "tags": []
   },
   "source": [
    "#### Dependencies"
   ]
  },
  {
   "cell_type": "code",
   "execution_count": 2,
   "metadata": {
    "id": "mL-ic_Fwl2bg"
   },
   "outputs": [],
   "source": [
    "import pandas as pd\n",
    "import numpy as np"
   ]
  },
  {
   "cell_type": "code",
   "execution_count": 3,
   "metadata": {
    "id": "L6f8Vold61mK"
   },
   "outputs": [],
   "source": [
    "def add_col(subdata, Manufacturing_X, Manufacturing_y):\n",
    "      dic_tab1 = {}\n",
    "      n = subdata.shape[1]\n",
    "      for i in range(2, n-1):\n",
    "        dic_tab1[subdata.columns[i]] = Manufacturing_X[i - 2]\n",
    "      dic_tab1[subdata.columns[n-1]] = Manufacturing_y[0]\n",
    "      return dic_tab1"
   ]
  },
  {
   "cell_type": "markdown",
   "metadata": {
    "id": "EFO5ZWI7l3k9"
   },
   "source": [
    "#### Data - Manufacturing_value"
   ]
  },
  {
   "cell_type": "code",
   "execution_count": 4,
   "metadata": {
    "id": "xHpz1V8Cp6-h"
   },
   "outputs": [],
   "source": [
    "data = pd.read_excel('raw/Tab1.xlsx')\n",
    "data = data[data['Country Code'].notna()]\n",
    "Country_Codes = list(np.unique(data['Country Code']))"
   ]
  },
  {
   "cell_type": "code",
   "execution_count": 5,
   "metadata": {
    "colab": {
     "base_uri": "https://localhost:8080/",
     "height": 386
    },
    "executionInfo": {
     "elapsed": 196,
     "status": "ok",
     "timestamp": 1666196845231,
     "user": {
      "displayName": "Di Mu",
      "userId": "10481682345499982733"
     },
     "user_tz": 240
    },
    "id": "hpgN86gwNokU",
    "outputId": "5dc7e324-3ad3-4973-ecff-f5f72bf3affa"
   },
   "outputs": [
    {
     "data": {
      "text/html": [
       "<div>\n",
       "<style scoped>\n",
       "    .dataframe tbody tr th:only-of-type {\n",
       "        vertical-align: middle;\n",
       "    }\n",
       "\n",
       "    .dataframe tbody tr th {\n",
       "        vertical-align: top;\n",
       "    }\n",
       "\n",
       "    .dataframe thead th {\n",
       "        text-align: right;\n",
       "    }\n",
       "</style>\n",
       "<table border=\"1\" class=\"dataframe\">\n",
       "  <thead>\n",
       "    <tr style=\"text-align: right;\">\n",
       "      <th></th>\n",
       "      <th>Country Name</th>\n",
       "      <th>Country Code</th>\n",
       "      <th>Time</th>\n",
       "      <th>Time Code</th>\n",
       "      <th>Employment in industry, male (% of male employment) (modeled ILO estimate) [SL.IND.EMPL.MA.ZS]</th>\n",
       "      <th>High-technology exports (% of manufactured exports) [TX.VAL.TECH.MF.ZS]</th>\n",
       "      <th>Research and development expenditure (% of GDP) [GB.XPD.RSDV.GD.ZS]</th>\n",
       "      <th>Researchers in R&amp;D (per million people) [SP.POP.SCIE.RD.P6]</th>\n",
       "      <th>Population ages 15-64 (% of total population) [SP.POP.1564.TO.ZS]</th>\n",
       "      <th>Population density (people per sq. km of land area) [EN.POP.DNST]</th>\n",
       "      <th>...</th>\n",
       "      <th>Net trade in goods and services (BoP, current US$) [BN.GSR.GNFS.CD]</th>\n",
       "      <th>Air transport, freight (million ton-km) [IS.AIR.GOOD.MT.K1]</th>\n",
       "      <th>Container port traffic (TEU: 20 foot equivalent units) [IS.SHP.GOOD.TU]</th>\n",
       "      <th>Railways, goods transported (million ton-km) [IS.RRS.GOOD.MT.K6]</th>\n",
       "      <th>Industry (including construction), value added (current US$) [NV.IND.TOTL.CD]</th>\n",
       "      <th>GDP per capita (current US$) [NY.GDP.PCAP.CD]</th>\n",
       "      <th>Final consumption expenditure (current US$) [NE.CON.TOTL.CD]</th>\n",
       "      <th>Firms using banks to finance investment (% of firms) [IC.FRM.BNKS.ZS]</th>\n",
       "      <th>New business density (new registrations per 1,000 people ages 15-64) [IC.BUS.NDNS.ZS]</th>\n",
       "      <th>Manufacturing, value added (% of GDP) [NV.IND.MANF.ZS]</th>\n",
       "    </tr>\n",
       "  </thead>\n",
       "  <tbody>\n",
       "    <tr>\n",
       "      <th>0</th>\n",
       "      <td>Canada</td>\n",
       "      <td>CAN</td>\n",
       "      <td>1960.0</td>\n",
       "      <td>YR1960</td>\n",
       "      <td>..</td>\n",
       "      <td>..</td>\n",
       "      <td>..</td>\n",
       "      <td>..</td>\n",
       "      <td>58.574017</td>\n",
       "      <td>..</td>\n",
       "      <td>...</td>\n",
       "      <td>-506965097.119614</td>\n",
       "      <td>..</td>\n",
       "      <td>..</td>\n",
       "      <td>..</td>\n",
       "      <td>..</td>\n",
       "      <td>2259.294285</td>\n",
       "      <td>..</td>\n",
       "      <td>..</td>\n",
       "      <td>..</td>\n",
       "      <td>..</td>\n",
       "    </tr>\n",
       "    <tr>\n",
       "      <th>1</th>\n",
       "      <td>Canada</td>\n",
       "      <td>CAN</td>\n",
       "      <td>1961.0</td>\n",
       "      <td>YR1961</td>\n",
       "      <td>..</td>\n",
       "      <td>..</td>\n",
       "      <td>..</td>\n",
       "      <td>..</td>\n",
       "      <td>58.446392</td>\n",
       "      <td>2.037903</td>\n",
       "      <td>...</td>\n",
       "      <td>-212120980.730524</td>\n",
       "      <td>..</td>\n",
       "      <td>..</td>\n",
       "      <td>..</td>\n",
       "      <td>..</td>\n",
       "      <td>2240.433039</td>\n",
       "      <td>32695764216.838642</td>\n",
       "      <td>..</td>\n",
       "      <td>..</td>\n",
       "      <td>..</td>\n",
       "    </tr>\n",
       "    <tr>\n",
       "      <th>2</th>\n",
       "      <td>Canada</td>\n",
       "      <td>CAN</td>\n",
       "      <td>1962.0</td>\n",
       "      <td>YR1962</td>\n",
       "      <td>..</td>\n",
       "      <td>..</td>\n",
       "      <td>..</td>\n",
       "      <td>..</td>\n",
       "      <td>58.432887</td>\n",
       "      <td>2.07616</td>\n",
       "      <td>...</td>\n",
       "      <td>-95384130.624447</td>\n",
       "      <td>..</td>\n",
       "      <td>..</td>\n",
       "      <td>..</td>\n",
       "      <td>..</td>\n",
       "      <td>2268.585346</td>\n",
       "      <td>33158772309.478661</td>\n",
       "      <td>..</td>\n",
       "      <td>..</td>\n",
       "      <td>..</td>\n",
       "    </tr>\n",
       "    <tr>\n",
       "      <th>3</th>\n",
       "      <td>Canada</td>\n",
       "      <td>CAN</td>\n",
       "      <td>1963.0</td>\n",
       "      <td>YR1963</td>\n",
       "      <td>..</td>\n",
       "      <td>..</td>\n",
       "      <td>..</td>\n",
       "      <td>..</td>\n",
       "      <td>58.522108</td>\n",
       "      <td>2.115198</td>\n",
       "      <td>...</td>\n",
       "      <td>309278759.858606</td>\n",
       "      <td>..</td>\n",
       "      <td>..</td>\n",
       "      <td>..</td>\n",
       "      <td>..</td>\n",
       "      <td>2374.498448</td>\n",
       "      <td>35119813036.783798</td>\n",
       "      <td>..</td>\n",
       "      <td>..</td>\n",
       "      <td>..</td>\n",
       "    </tr>\n",
       "    <tr>\n",
       "      <th>4</th>\n",
       "      <td>Canada</td>\n",
       "      <td>CAN</td>\n",
       "      <td>1964.0</td>\n",
       "      <td>YR1964</td>\n",
       "      <td>..</td>\n",
       "      <td>..</td>\n",
       "      <td>..</td>\n",
       "      <td>..</td>\n",
       "      <td>58.697664</td>\n",
       "      <td>2.155463</td>\n",
       "      <td>...</td>\n",
       "      <td>563628154.48225</td>\n",
       "      <td>..</td>\n",
       "      <td>..</td>\n",
       "      <td>..</td>\n",
       "      <td>..</td>\n",
       "      <td>2555.111146</td>\n",
       "      <td>37861761304.363205</td>\n",
       "      <td>..</td>\n",
       "      <td>..</td>\n",
       "      <td>..</td>\n",
       "    </tr>\n",
       "  </tbody>\n",
       "</table>\n",
       "<p>5 rows × 21 columns</p>\n",
       "</div>"
      ],
      "text/plain": [
       "  Country Name Country Code    Time Time Code  \\\n",
       "0       Canada          CAN  1960.0    YR1960   \n",
       "1       Canada          CAN  1961.0    YR1961   \n",
       "2       Canada          CAN  1962.0    YR1962   \n",
       "3       Canada          CAN  1963.0    YR1963   \n",
       "4       Canada          CAN  1964.0    YR1964   \n",
       "\n",
       "  Employment in industry, male (% of male employment) (modeled ILO estimate) [SL.IND.EMPL.MA.ZS]  \\\n",
       "0                                                 ..                                               \n",
       "1                                                 ..                                               \n",
       "2                                                 ..                                               \n",
       "3                                                 ..                                               \n",
       "4                                                 ..                                               \n",
       "\n",
       "  High-technology exports (% of manufactured exports) [TX.VAL.TECH.MF.ZS]  \\\n",
       "0                                                 ..                        \n",
       "1                                                 ..                        \n",
       "2                                                 ..                        \n",
       "3                                                 ..                        \n",
       "4                                                 ..                        \n",
       "\n",
       "  Research and development expenditure (% of GDP) [GB.XPD.RSDV.GD.ZS]  \\\n",
       "0                                                 ..                    \n",
       "1                                                 ..                    \n",
       "2                                                 ..                    \n",
       "3                                                 ..                    \n",
       "4                                                 ..                    \n",
       "\n",
       "  Researchers in R&D (per million people) [SP.POP.SCIE.RD.P6]  \\\n",
       "0                                                 ..            \n",
       "1                                                 ..            \n",
       "2                                                 ..            \n",
       "3                                                 ..            \n",
       "4                                                 ..            \n",
       "\n",
       "   Population ages 15-64 (% of total population) [SP.POP.1564.TO.ZS]  \\\n",
       "0                                          58.574017                   \n",
       "1                                          58.446392                   \n",
       "2                                          58.432887                   \n",
       "3                                          58.522108                   \n",
       "4                                          58.697664                   \n",
       "\n",
       "  Population density (people per sq. km of land area) [EN.POP.DNST]  ...  \\\n",
       "0                                                 ..                 ...   \n",
       "1                                           2.037903                 ...   \n",
       "2                                            2.07616                 ...   \n",
       "3                                           2.115198                 ...   \n",
       "4                                           2.155463                 ...   \n",
       "\n",
       "  Net trade in goods and services (BoP, current US$) [BN.GSR.GNFS.CD]  \\\n",
       "0                                  -506965097.119614                    \n",
       "1                                  -212120980.730524                    \n",
       "2                                   -95384130.624447                    \n",
       "3                                   309278759.858606                    \n",
       "4                                    563628154.48225                    \n",
       "\n",
       "  Air transport, freight (million ton-km) [IS.AIR.GOOD.MT.K1]  \\\n",
       "0                                                 ..            \n",
       "1                                                 ..            \n",
       "2                                                 ..            \n",
       "3                                                 ..            \n",
       "4                                                 ..            \n",
       "\n",
       "  Container port traffic (TEU: 20 foot equivalent units) [IS.SHP.GOOD.TU]  \\\n",
       "0                                                 ..                        \n",
       "1                                                 ..                        \n",
       "2                                                 ..                        \n",
       "3                                                 ..                        \n",
       "4                                                 ..                        \n",
       "\n",
       "  Railways, goods transported (million ton-km) [IS.RRS.GOOD.MT.K6]  \\\n",
       "0                                                 ..                 \n",
       "1                                                 ..                 \n",
       "2                                                 ..                 \n",
       "3                                                 ..                 \n",
       "4                                                 ..                 \n",
       "\n",
       "  Industry (including construction), value added (current US$) [NV.IND.TOTL.CD]  \\\n",
       "0                                                 ..                              \n",
       "1                                                 ..                              \n",
       "2                                                 ..                              \n",
       "3                                                 ..                              \n",
       "4                                                 ..                              \n",
       "\n",
       "  GDP per capita (current US$) [NY.GDP.PCAP.CD]  \\\n",
       "0                                   2259.294285   \n",
       "1                                   2240.433039   \n",
       "2                                   2268.585346   \n",
       "3                                   2374.498448   \n",
       "4                                   2555.111146   \n",
       "\n",
       "   Final consumption expenditure (current US$) [NE.CON.TOTL.CD]  \\\n",
       "0                                                 ..              \n",
       "1                                 32695764216.838642              \n",
       "2                                 33158772309.478661              \n",
       "3                                 35119813036.783798              \n",
       "4                                 37861761304.363205              \n",
       "\n",
       "  Firms using banks to finance investment (% of firms) [IC.FRM.BNKS.ZS]  \\\n",
       "0                                                 ..                      \n",
       "1                                                 ..                      \n",
       "2                                                 ..                      \n",
       "3                                                 ..                      \n",
       "4                                                 ..                      \n",
       "\n",
       "  New business density (new registrations per 1,000 people ages 15-64) [IC.BUS.NDNS.ZS]  \\\n",
       "0                                                 ..                                      \n",
       "1                                                 ..                                      \n",
       "2                                                 ..                                      \n",
       "3                                                 ..                                      \n",
       "4                                                 ..                                      \n",
       "\n",
       "  Manufacturing, value added (% of GDP) [NV.IND.MANF.ZS]  \n",
       "0                                                 ..      \n",
       "1                                                 ..      \n",
       "2                                                 ..      \n",
       "3                                                 ..      \n",
       "4                                                 ..      \n",
       "\n",
       "[5 rows x 21 columns]"
      ]
     },
     "execution_count": 5,
     "metadata": {},
     "output_type": "execute_result"
    }
   ],
   "source": [
    "data.head()"
   ]
  },
  {
   "cell_type": "code",
   "execution_count": 6,
   "metadata": {
    "id": "56PVnpZYniZy"
   },
   "outputs": [],
   "source": [
    "### Factors for attractiveness in Manufacturing \n",
    "Manufacturing_X = [\n",
    "  'Employment_in_industry_male',\n",
    "  'High_technology_exports',\n",
    "  'Research_development_expenditure',\n",
    "  'Researchers in R&D',\n",
    "  'Population_labor_rate',\n",
    "  'Population_density',\n",
    "  'Foreign_direct_investment',\n",
    "  'Net_trade_in_goods_services',\n",
    "  'Air_freight_million_ton_km',\n",
    "  'Container_port_traffic_TEU',\n",
    "  'Railways_goods_trans_million_ton-km',\n",
    "  'Industry_value_added_current_USD',\n",
    "  'GDP_per_capita_current_USD',\n",
    "  'Final_consumption',\n",
    "  'Access_finance',\n",
    "  'New_business_density'\n",
    "]\n",
    "\n",
    "Manufacturing_y = ['Manufacturing_value added_%_of_GDP']"
   ]
  },
  {
   "cell_type": "code",
   "execution_count": 7,
   "metadata": {
    "id": "FqBBQoUeqS8g"
   },
   "outputs": [],
   "source": [
    "with pd.ExcelWriter(\"cleaned/Manufacturing_all.xlsx\") as writer:  \n",
    "  for c in Country_Codes:\n",
    "    subdata = data[data['Country Code'] == c].reset_index().drop(['index', 'Time'], axis = 1)\n",
    "    subdata['Year'] = subdata['Time Code'].apply(lambda x: str(x)[2:])\n",
    "    subdata = subdata.set_index('Year').drop(['Time Code'], axis = 1)\n",
    "    dic_tab1 = add_col(subdata, Manufacturing_X, Manufacturing_y)\n",
    "    subdata = subdata.rename(columns = dic_tab1).drop(['Country Name', 'Country Code'], axis = 1) \\\n",
    "            .replace('..', np.nan)\n",
    "    subdata.to_excel(writer, sheet_name=c)"
   ]
  },
  {
   "cell_type": "markdown",
   "metadata": {
    "id": "EY4KyqEp7lZF"
   },
   "source": [
    "#### Data - Service_value"
   ]
  },
  {
   "cell_type": "code",
   "execution_count": 8,
   "metadata": {
    "id": "VZJ7h5uw6d_K"
   },
   "outputs": [],
   "source": [
    "data2 = pd.read_excel('raw/Tab2.xlsx')\n",
    "data2 = data2[data2['Country Code'].notna()]\n",
    "Country_Codes = list(np.unique(data2['Country Code']))"
   ]
  },
  {
   "cell_type": "code",
   "execution_count": 9,
   "metadata": {
    "id": "4K1A5dnu7-k-"
   },
   "outputs": [],
   "source": [
    "### Factors for attractiveness in Service \n",
    "Service_X = [\n",
    " 'Employment_in_services_male',\n",
    " 'Urban_population_growth', \n",
    " 'Net_trade_in_goods_services', \n",
    " 'Foreign_direct_investment',\n",
    " 'Mobile_cellular_subscriptions', \n",
    " 'Secure_Internet_servers',\n",
    " 'School_enrollment_tertiary',\n",
    " 'Population_labor_rate', \n",
    " 'Population_density', \n",
    " 'Access_electricity',\n",
    " 'Industry_value_added_current_USD',\n",
    " 'Employment_in_industry_%_of_total_employment',\n",
    " 'GDP_per_capita_current_USD',\n",
    " 'Final_consumption',\n",
    " 'Primary_completion_rate',\n",
    " 'Educational_attainment',\n",
    " 'Individuals_using_the_Internet_%_of_population',\n",
    " 'Poverty_headcount_ratio',\n",
    " 'Access_finance',\n",
    " 'New_business_density'\n",
    " ]\n",
    "\n",
    "Service_y = ['Services_value_added_%_of_GDP']"
   ]
  },
  {
   "cell_type": "code",
   "execution_count": 10,
   "metadata": {
    "id": "bsAyaPSz8utg"
   },
   "outputs": [],
   "source": [
    "with pd.ExcelWriter(\"cleaned/Service_all.xlsx\") as writer2:  \n",
    "  for c in Country_Codes:\n",
    "    subdata = data2[data2['Country Code'] == c].reset_index().drop(['index', 'Time'], axis = 1)\n",
    "    subdata['Year'] = subdata['Time Code'].apply(lambda x: str(x)[2:])\n",
    "    subdata = subdata.set_index('Year').drop(['Time Code'], axis = 1)\n",
    "    dic_tab2 = add_col(subdata, Service_X, Service_y)\n",
    "    subdata = subdata.rename(columns = dic_tab2).drop(['Country Name', 'Country Code'], axis = 1) \\\n",
    "            .replace('..', np.nan)\n",
    "    subdata.to_excel(writer2, sheet_name=c)"
   ]
  }
 ],
 "metadata": {
  "colab": {
   "collapsed_sections": [],
   "provenance": []
  },
  "kernelspec": {
   "display_name": "Python 3",
   "language": "python",
   "name": "python3"
  },
  "language_info": {
   "codemirror_mode": {
    "name": "ipython",
    "version": 3
   },
   "file_extension": ".py",
   "mimetype": "text/x-python",
   "name": "python",
   "nbconvert_exporter": "python",
   "pygments_lexer": "ipython3",
   "version": "3.9.7"
  }
 },
 "nbformat": 4,
 "nbformat_minor": 4
}
